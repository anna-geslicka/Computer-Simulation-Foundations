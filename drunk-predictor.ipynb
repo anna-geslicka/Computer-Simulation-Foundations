{
 "cells": [
  {
   "cell_type": "markdown",
   "id": "381edcbf",
   "metadata": {},
   "source": [
    "Program liczący prawdopodobieństwo prawdopodobieństwo, że po wykonaniu N kroków pijak \n",
    "znajdzie się w pozycji x = ml, z różnymi prawdopodobieństwami p i q, gdzie: <br>\n",
    "pl - prawdopodobieństwo, że pijak pójdzie w lewo,<br>\n",
    "pp = 1- pl - prawdopodobieństwo, że pijak pójdzie w prawo,<br>\n",
    "l - długość jednego kroku,<br>\n",
    "ml - długość marszu w lewo od pozycji początkowej.<br>\n",
    "Na potrzeby zadania zakładam, że warunek Markowa jest spełniony i kolejne kroki są niezależne od siebie."
   ]
  },
  {
   "cell_type": "code",
   "execution_count": 12,
   "id": "b70f654e",
   "metadata": {},
   "outputs": [
    {
     "name": "stdout",
     "output_type": "stream",
     "text": [
      "Prawdopodobieństwo, że pijak znajdzie się  120 cm od początkowej pozycji wynosi  0.5120000000000001\n"
     ]
    }
   ],
   "source": [
    "import random\n",
    "\n",
    "# liczba kroków \n",
    "N = 3\n",
    "# prawdopodobieństwo pójścia w lewo\n",
    "pl = 0.8\n",
    "pp = 1-pl\n",
    "# długość kroku [cm]\n",
    "l = 40\n",
    "# max odległość w lewo od pozycji początkowej [cm]\n",
    "ml = N * l\n",
    "\n",
    "# wypełniona zerami tablica do przechowywania prawdopodobieństw (N w lewo, N w prawo + początkowa)\n",
    "probabilities = [0] * (2 * N + 1)\n",
    "# początkowa pozycja - prawdopodobieństwo bycia w niej to 100%\n",
    "probabilities[N] = 1.0\n",
    "\n",
    "position = N\n",
    "for probability in range(N):\n",
    "    position -= 1\n",
    "    probabilities[position] = probabilities[position+1]*pl\n",
    "    \n",
    "position = N   \n",
    "for probability in range(N):\n",
    "    position += 1\n",
    "    probabilities[position] = probabilities[position-1]*pp\n",
    "\n",
    "print(\"Prawdopodobieństwo, że pijak znajdzie się \" , ml , \"cm od początkowej pozycji wynosi \"\n",
    "      , probabilities[0])"
   ]
  },
  {
   "cell_type": "code",
   "execution_count": null,
   "id": "407e7446",
   "metadata": {},
   "outputs": [],
   "source": []
  }
 ],
 "metadata": {
  "kernelspec": {
   "display_name": "Python 3 (ipykernel)",
   "language": "python",
   "name": "python3"
  },
  "language_info": {
   "codemirror_mode": {
    "name": "ipython",
    "version": 3
   },
   "file_extension": ".py",
   "mimetype": "text/x-python",
   "name": "python",
   "nbconvert_exporter": "python",
   "pygments_lexer": "ipython3",
   "version": "3.9.13"
  }
 },
 "nbformat": 4,
 "nbformat_minor": 5
}
